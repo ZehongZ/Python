{
  "cells": [
    {
      "cell_type": "code",
      "source": [
        "import os"
      ],
      "outputs": [],
      "execution_count": 1,
      "metadata": {
        "collapsed": false,
        "outputHidden": false,
        "inputHidden": false
      }
    },
    {
      "cell_type": "code",
      "source": [
        "os.getcwd()"
      ],
      "outputs": [
        {
          "output_type": "execute_result",
          "execution_count": 2,
          "data": {
            "text/plain": [
              "'/'"
            ]
          },
          "metadata": {}
        }
      ],
      "execution_count": 2,
      "metadata": {
        "collapsed": false,
        "outputHidden": false,
        "inputHidden": false
      }
    },
    {
      "cell_type": "code",
      "source": [
        "import pandas as pd"
      ],
      "outputs": [],
      "execution_count": 3,
      "metadata": {
        "collapsed": false,
        "outputHidden": false,
        "inputHidden": false
      }
    },
    {
      "cell_type": "code",
      "source": [
        "os.chdir(\"/Users/zehongzhuang/Desktop/Python For data Analysis/datasets\")"
      ],
      "outputs": [],
      "execution_count": 7,
      "metadata": {
        "collapsed": false,
        "outputHidden": false,
        "inputHidden": false
      }
    },
    {
      "cell_type": "code",
      "source": [
        "unames=['user_id','gender','age','occupation','zip']"
      ],
      "outputs": [],
      "execution_count": 8,
      "metadata": {
        "collapsed": false,
        "outputHidden": false,
        "inputHidden": false
      }
    },
    {
      "cell_type": "code",
      "source": [
        "users=pd.read_table('movielens/users.dat',sep='::', header=None, names=unames)"
      ],
      "outputs": [
        {
          "output_type": "stream",
          "name": "stderr",
          "text": [
            "/anaconda3/lib/python3.7/site-packages/ipykernel_launcher.py:1: ParserWarning: Falling back to the 'python' engine because the 'c' engine does not support regex separators (separators > 1 char and different from '\\s+' are interpreted as regex); you can avoid this warning by specifying engine='python'.\n",
            "  \"\"\"Entry point for launching an IPython kernel.\n"
          ]
        }
      ],
      "execution_count": 9,
      "metadata": {
        "collapsed": false,
        "outputHidden": false,
        "inputHidden": false
      }
    },
    {
      "cell_type": "code",
      "source": [
        "rnames=['user_id','movie_id','rating','timestamp']"
      ],
      "outputs": [],
      "execution_count": 10,
      "metadata": {
        "collapsed": false,
        "outputHidden": false,
        "inputHidden": false
      }
    },
    {
      "cell_type": "code",
      "source": [
        "ratings=pd.read_table('movielens/ratings.dat', sep='::', header=None, names=rnames)"
      ],
      "outputs": [
        {
          "output_type": "stream",
          "name": "stderr",
          "text": [
            "/anaconda3/lib/python3.7/site-packages/ipykernel_launcher.py:1: ParserWarning: Falling back to the 'python' engine because the 'c' engine does not support regex separators (separators > 1 char and different from '\\s+' are interpreted as regex); you can avoid this warning by specifying engine='python'.\n",
            "  \"\"\"Entry point for launching an IPython kernel.\n"
          ]
        }
      ],
      "execution_count": 11,
      "metadata": {
        "collapsed": false,
        "outputHidden": false,
        "inputHidden": false
      }
    },
    {
      "cell_type": "code",
      "source": [
        "mnames=['movie_id','title','genres']"
      ],
      "outputs": [],
      "execution_count": 12,
      "metadata": {
        "collapsed": false,
        "outputHidden": false,
        "inputHidden": false
      }
    },
    {
      "cell_type": "code",
      "source": [
        "movies=pd.read_table('movielens/movies.dat',sep='::',header=None,names=mnames)"
      ],
      "outputs": [
        {
          "output_type": "stream",
          "name": "stderr",
          "text": [
            "/anaconda3/lib/python3.7/site-packages/ipykernel_launcher.py:1: ParserWarning: Falling back to the 'python' engine because the 'c' engine does not support regex separators (separators > 1 char and different from '\\s+' are interpreted as regex); you can avoid this warning by specifying engine='python'.\n",
            "  \"\"\"Entry point for launching an IPython kernel.\n"
          ]
        }
      ],
      "execution_count": 13,
      "metadata": {
        "collapsed": false,
        "outputHidden": false,
        "inputHidden": false
      }
    },
    {
      "cell_type": "code",
      "source": [
        "data=pd.merge(pd.merge(ratings,users),movies)"
      ],
      "outputs": [],
      "execution_count": 14,
      "metadata": {
        "collapsed": false,
        "outputHidden": false,
        "inputHidden": false
      }
    },
    {
      "cell_type": "code",
      "source": [
        "#Get mean movie ratings for each file grouped by gender\n",
        "mean_ratings=data.pivot_table('rating',index='title',columns='gender',aggfunc='mean')"
      ],
      "outputs": [],
      "execution_count": 15,
      "metadata": {
        "collapsed": false,
        "outputHidden": false,
        "inputHidden": false
      }
    },
    {
      "cell_type": "code",
      "source": [
        "#Ratings by title\n",
        "ratings_by_title=data.groupby('title').size()\n",
        "active_titles=ratings_by_title.index[ratings_by_title>=250]"
      ],
      "outputs": [],
      "execution_count": 16,
      "metadata": {
        "collapsed": false,
        "outputHidden": false,
        "inputHidden": false
      }
    },
    {
      "cell_type": "code",
      "source": [
        "mean_ratings=mean_ratings.ix[active_titles]"
      ],
      "outputs": [
        {
          "output_type": "stream",
          "name": "stderr",
          "text": [
            "/anaconda3/lib/python3.7/site-packages/ipykernel_launcher.py:1: DeprecationWarning: \n",
            ".ix is deprecated. Please use\n",
            ".loc for label based indexing or\n",
            ".iloc for positional indexing\n",
            "\n",
            "See the documentation here:\n",
            "http://pandas.pydata.org/pandas-docs/stable/indexing.html#ix-indexer-is-deprecated\n",
            "  \"\"\"Entry point for launching an IPython kernel.\n"
          ]
        }
      ],
      "execution_count": 17,
      "metadata": {
        "collapsed": false,
        "outputHidden": false,
        "inputHidden": false
      }
    },
    {
      "cell_type": "code",
      "source": [
        "#Top films among female viewers\n",
        "top_female_ratings=mean_ratings.sort_index(by='F', ascending=False)"
      ],
      "outputs": [
        {
          "output_type": "stream",
          "name": "stderr",
          "text": [
            "/anaconda3/lib/python3.7/site-packages/ipykernel_launcher.py:2: FutureWarning: by argument to sort_index is deprecated, please use .sort_values(by=...)\n",
            "  \n"
          ]
        }
      ],
      "execution_count": 18,
      "metadata": {
        "collapsed": false,
        "outputHidden": false,
        "inputHidden": false
      }
    },
    {
      "cell_type": "code",
      "source": [
        "#Measuring rating disagreement\n",
        "mean_ratings['diff']=mean_ratings['M']- mean_ratings['F']"
      ],
      "outputs": [],
      "execution_count": 19,
      "metadata": {
        "collapsed": false,
        "outputHidden": false,
        "inputHidden": false
      }
    },
    {
      "cell_type": "code",
      "source": [
        "sorted_by_diff=mean_ratings.sort_index(by='diff')"
      ],
      "outputs": [
        {
          "output_type": "stream",
          "name": "stderr",
          "text": [
            "/anaconda3/lib/python3.7/site-packages/ipykernel_launcher.py:1: FutureWarning: by argument to sort_index is deprecated, please use .sort_values(by=...)\n",
            "  \"\"\"Entry point for launching an IPython kernel.\n"
          ]
        }
      ],
      "execution_count": 20,
      "metadata": {
        "collapsed": false,
        "outputHidden": false,
        "inputHidden": false
      }
    },
    {
      "cell_type": "code",
      "source": [
        "#Reversing the order of the rows and slicing off the top 15 rows\n",
        "sorted_by_diff[::1][:15]"
      ],
      "outputs": [
        {
          "output_type": "execute_result",
          "execution_count": 21,
          "data": {
            "text/plain": [
              "gender                                        F         M      diff\n",
              "title                                                              \n",
              "Dirty Dancing (1987)                   3.790378  2.959596 -0.830782\n",
              "Jumpin' Jack Flash (1986)              3.254717  2.578358 -0.676359\n",
              "Grease (1978)                          3.975265  3.367041 -0.608224\n",
              "Little Women (1994)                    3.870588  3.321739 -0.548849\n",
              "Steel Magnolias (1989)                 3.901734  3.365957 -0.535777\n",
              "Anastasia (1997)                       3.800000  3.281609 -0.518391\n",
              "Rocky Horror Picture Show, The (1975)  3.673016  3.160131 -0.512885\n",
              "Color Purple, The (1985)               4.158192  3.659341 -0.498851\n",
              "Age of Innocence, The (1993)           3.827068  3.339506 -0.487561\n",
              "Free Willy (1993)                      2.921348  2.438776 -0.482573\n",
              "French Kiss (1995)                     3.535714  3.056962 -0.478752\n",
              "Little Shop of Horrors, The (1960)     3.650000  3.179688 -0.470312\n",
              "Guys and Dolls (1955)                  4.051724  3.583333 -0.468391\n",
              "Mary Poppins (1964)                    4.197740  3.730594 -0.467147\n",
              "Patch Adams (1998)                     3.473282  3.008746 -0.464536"
            ],
            "text/html": [
              "<div>\n",
              "<style scoped>\n",
              "    .dataframe tbody tr th:only-of-type {\n",
              "        vertical-align: middle;\n",
              "    }\n",
              "\n",
              "    .dataframe tbody tr th {\n",
              "        vertical-align: top;\n",
              "    }\n",
              "\n",
              "    .dataframe thead th {\n",
              "        text-align: right;\n",
              "    }\n",
              "</style>\n",
              "<table border=\"1\" class=\"dataframe\">\n",
              "  <thead>\n",
              "    <tr style=\"text-align: right;\">\n",
              "      <th>gender</th>\n",
              "      <th>F</th>\n",
              "      <th>M</th>\n",
              "      <th>diff</th>\n",
              "    </tr>\n",
              "    <tr>\n",
              "      <th>title</th>\n",
              "      <th></th>\n",
              "      <th></th>\n",
              "      <th></th>\n",
              "    </tr>\n",
              "  </thead>\n",
              "  <tbody>\n",
              "    <tr>\n",
              "      <th>Dirty Dancing (1987)</th>\n",
              "      <td>3.790378</td>\n",
              "      <td>2.959596</td>\n",
              "      <td>-0.830782</td>\n",
              "    </tr>\n",
              "    <tr>\n",
              "      <th>Jumpin' Jack Flash (1986)</th>\n",
              "      <td>3.254717</td>\n",
              "      <td>2.578358</td>\n",
              "      <td>-0.676359</td>\n",
              "    </tr>\n",
              "    <tr>\n",
              "      <th>Grease (1978)</th>\n",
              "      <td>3.975265</td>\n",
              "      <td>3.367041</td>\n",
              "      <td>-0.608224</td>\n",
              "    </tr>\n",
              "    <tr>\n",
              "      <th>Little Women (1994)</th>\n",
              "      <td>3.870588</td>\n",
              "      <td>3.321739</td>\n",
              "      <td>-0.548849</td>\n",
              "    </tr>\n",
              "    <tr>\n",
              "      <th>Steel Magnolias (1989)</th>\n",
              "      <td>3.901734</td>\n",
              "      <td>3.365957</td>\n",
              "      <td>-0.535777</td>\n",
              "    </tr>\n",
              "    <tr>\n",
              "      <th>Anastasia (1997)</th>\n",
              "      <td>3.800000</td>\n",
              "      <td>3.281609</td>\n",
              "      <td>-0.518391</td>\n",
              "    </tr>\n",
              "    <tr>\n",
              "      <th>Rocky Horror Picture Show, The (1975)</th>\n",
              "      <td>3.673016</td>\n",
              "      <td>3.160131</td>\n",
              "      <td>-0.512885</td>\n",
              "    </tr>\n",
              "    <tr>\n",
              "      <th>Color Purple, The (1985)</th>\n",
              "      <td>4.158192</td>\n",
              "      <td>3.659341</td>\n",
              "      <td>-0.498851</td>\n",
              "    </tr>\n",
              "    <tr>\n",
              "      <th>Age of Innocence, The (1993)</th>\n",
              "      <td>3.827068</td>\n",
              "      <td>3.339506</td>\n",
              "      <td>-0.487561</td>\n",
              "    </tr>\n",
              "    <tr>\n",
              "      <th>Free Willy (1993)</th>\n",
              "      <td>2.921348</td>\n",
              "      <td>2.438776</td>\n",
              "      <td>-0.482573</td>\n",
              "    </tr>\n",
              "    <tr>\n",
              "      <th>French Kiss (1995)</th>\n",
              "      <td>3.535714</td>\n",
              "      <td>3.056962</td>\n",
              "      <td>-0.478752</td>\n",
              "    </tr>\n",
              "    <tr>\n",
              "      <th>Little Shop of Horrors, The (1960)</th>\n",
              "      <td>3.650000</td>\n",
              "      <td>3.179688</td>\n",
              "      <td>-0.470312</td>\n",
              "    </tr>\n",
              "    <tr>\n",
              "      <th>Guys and Dolls (1955)</th>\n",
              "      <td>4.051724</td>\n",
              "      <td>3.583333</td>\n",
              "      <td>-0.468391</td>\n",
              "    </tr>\n",
              "    <tr>\n",
              "      <th>Mary Poppins (1964)</th>\n",
              "      <td>4.197740</td>\n",
              "      <td>3.730594</td>\n",
              "      <td>-0.467147</td>\n",
              "    </tr>\n",
              "    <tr>\n",
              "      <th>Patch Adams (1998)</th>\n",
              "      <td>3.473282</td>\n",
              "      <td>3.008746</td>\n",
              "      <td>-0.464536</td>\n",
              "    </tr>\n",
              "  </tbody>\n",
              "</table>\n",
              "</div>"
            ]
          },
          "metadata": {}
        }
      ],
      "execution_count": 21,
      "metadata": {
        "collapsed": false,
        "outputHidden": false,
        "inputHidden": false
      }
    },
    {
      "cell_type": "code",
      "source": [
        "#Standard deviation of rating grouped by titile\n",
        "rating_std_by_title=data.groupby('title')['rating'].std()\n",
        "#Fileter down to active_titles\n",
        "rating_std_by_title=rating_std_by_title.ix[active_titles]"
      ],
      "outputs": [
        {
          "output_type": "stream",
          "name": "stderr",
          "text": [
            "/anaconda3/lib/python3.7/site-packages/ipykernel_launcher.py:4: DeprecationWarning: \n",
            ".ix is deprecated. Please use\n",
            ".loc for label based indexing or\n",
            ".iloc for positional indexing\n",
            "\n",
            "See the documentation here:\n",
            "http://pandas.pydata.org/pandas-docs/stable/indexing.html#ix-indexer-is-deprecated\n",
            "  after removing the cwd from sys.path.\n"
          ]
        }
      ],
      "execution_count": 22,
      "metadata": {
        "collapsed": false,
        "outputHidden": false,
        "inputHidden": false
      }
    },
    {
      "cell_type": "code",
      "source": [
        "#Order series by value in descending order\n",
        "rating_std_by_title.sort_values(ascending=False)[:10]"
      ],
      "outputs": [
        {
          "output_type": "execute_result",
          "execution_count": 23,
          "data": {
            "text/plain": [
              "title\n",
              "Dumb & Dumber (1994)                     1.321333\n",
              "Blair Witch Project, The (1999)          1.316368\n",
              "Natural Born Killers (1994)              1.307198\n",
              "Tank Girl (1995)                         1.277695\n",
              "Rocky Horror Picture Show, The (1975)    1.260177\n",
              "Eyes Wide Shut (1999)                    1.259624\n",
              "Evita (1996)                             1.253631\n",
              "Billy Madison (1995)                     1.249970\n",
              "Fear and Loathing in Las Vegas (1998)    1.246408\n",
              "Bicentennial Man (1999)                  1.245533\n",
              "Name: rating, dtype: float64"
            ]
          },
          "metadata": {}
        }
      ],
      "execution_count": 23,
      "metadata": {
        "collapsed": false,
        "outputHidden": false,
        "inputHidden": false
      }
    },
    {
      "cell_type": "code",
      "source": [],
      "outputs": [],
      "execution_count": null,
      "metadata": {
        "collapsed": false,
        "outputHidden": false,
        "inputHidden": false
      }
    }
  ],
  "metadata": {
    "kernel_info": {
      "name": "python3"
    },
    "language_info": {
      "name": "python",
      "version": "3.7.2",
      "mimetype": "text/x-python",
      "codemirror_mode": {
        "name": "ipython",
        "version": 3
      },
      "pygments_lexer": "ipython3",
      "nbconvert_exporter": "python",
      "file_extension": ".py"
    },
    "kernelspec": {
      "name": "python3",
      "language": "python",
      "display_name": "Python 3"
    },
    "nteract": {
      "version": "0.12.3"
    }
  },
  "nbformat": 4,
  "nbformat_minor": 4
}